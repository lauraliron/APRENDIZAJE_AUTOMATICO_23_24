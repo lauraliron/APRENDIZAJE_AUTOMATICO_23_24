{
  "nbformat": 4,
  "nbformat_minor": 0,
  "metadata": {
    "colab": {
      "provenance": [],
      "authorship_tag": "ABX9TyNK+PxYrD6Fq7lGBrwKmj8d",
      "include_colab_link": true
    },
    "kernelspec": {
      "name": "python3",
      "display_name": "Python 3"
    },
    "language_info": {
      "name": "python"
    }
  },
  "cells": [
    {
      "cell_type": "markdown",
      "metadata": {
        "id": "view-in-github",
        "colab_type": "text"
      },
      "source": [
        "<a href=\"https://colab.research.google.com/github/lauraliron/APRENDIZAJE_AUTOMATICO_23_24/blob/main/AA_PRACTICA3_GRUPO_6.ipynb\" target=\"_parent\"><img src=\"https://colab.research.google.com/assets/colab-badge.svg\" alt=\"Open In Colab\"/></a>"
      ]
    },
    {
      "cell_type": "markdown",
      "source": [
        "<img src=\"https://www.ufv.es/wp-content/uploads/2023/03/logo-UFV-scaled.jpg\" alt=\"Logo de Colab\" width=\"200\">\n",
        "\n",
        "# <font color='00008B'>GRUPO 6.</font>\n",
        "##### Laura Lirón Carrión, Alberto Muñoz Gutierrez, Nuria Prol Vecoña.\n"
      ],
      "metadata": {
        "id": "myprRNHBTRRT"
      }
    },
    {
      "cell_type": "markdown",
      "source": [
        "\n",
        "# <font color='00008B'>PRÁCTICA 1.</font>\n",
        "#####Aprendizaje automático\n",
        "\n",
        "\n",
        "---\n",
        "\n",
        "\n",
        "*El objetivo de esta práctica es trabajar los principios básicos de las Redes de Neuronas Convolucionales.*\n",
        "\n",
        "---\n",
        "Crea un modelo de Red de Neuronas Convolucionales que sea capaz de reconocer y\n",
        "clasificar imágenes en 100 categorías. Este modelo será definido, configurado,\n",
        "entrenado, evaluado y mejorado para posteriormente usarlo para hacer predicciones.\n",
        "Para ello tendréis que crear un modelo en Keras aplicando de una tirada todos los pasos\n",
        "al conjunto de datos CIFAR-100 dataset."
      ],
      "metadata": {
        "id": "guClUoRPTsvp"
      }
    },
    {
      "cell_type": "markdown",
      "source": [
        "Las redes convolucionales son un tipo de redes profundas especializadas en procesar datos que tienen forma de cuadrícula. Como por ejemplo las imágenes, el entrenamiento de redes muy profundas, los modelos eficientes en términos de parámetros y tamaño del modelo...\n",
        "\n",
        "Estas redes suponen explícitamente que las entradas son imágenes y por tanto codifican\n",
        "ciertas propiedades en la arquitectura para reconocer elementos concretos en las\n",
        "imágenes."
      ],
      "metadata": {
        "id": "pXTriErJUMJq"
      }
    },
    {
      "cell_type": "code",
      "source": [
        "%tensorflow_version 2.x\n",
        "import tensorflow as tf\n",
        "from tensorflow import keras\n",
        "\n",
        "import numpy as np\n",
        "import matplotlib.pyplot as plt\n",
        "\n",
        "print(\"GPU Available:\", tf.config.list_physical_devices('GPU'))\n",
        "print(tf.__version__)"
      ],
      "metadata": {
        "colab": {
          "base_uri": "https://localhost:8080/"
        },
        "id": "GVs_2OV9TzOf",
        "outputId": "64ccc169-f23a-43e5-c889-a96ea279923c"
      },
      "execution_count": 4,
      "outputs": [
        {
          "output_type": "stream",
          "name": "stdout",
          "text": [
            "Colab only includes TensorFlow 2.x; %tensorflow_version has no effect.\n",
            "GPU Available: []\n",
            "2.14.0\n"
          ]
        }
      ]
    },
    {
      "cell_type": "code",
      "source": [
        "from tensorflow.keras.datasets import cifar100\n",
        "\n",
        "(train_images, train_labels), (test_images, test_labels) = cifar100.load_data()\n",
        "\n",
        "\n",
        "print(train_images.shape)\n",
        "print(train_labels.size)\n",
        "print(test_images.shape)\n",
        "print(test_labels.size)"
      ],
      "metadata": {
        "colab": {
          "base_uri": "https://localhost:8080/"
        },
        "id": "wFN_JOrrVGkO",
        "outputId": "7a13780a-c55a-4c37-da29-b9c94ce7e71f"
      },
      "execution_count": 5,
      "outputs": [
        {
          "output_type": "stream",
          "name": "stdout",
          "text": [
            "(50000, 32, 32, 3)\n",
            "50000\n",
            "(10000, 32, 32, 3)\n",
            "10000\n"
          ]
        }
      ]
    },
    {
      "cell_type": "code",
      "source": [
        "from tensorflow.keras import Sequential\n",
        "from tensorflow.keras.layers import Conv2D\n",
        "from tensorflow.keras.layers import MaxPooling2D\n",
        "\n",
        "model = Sequential()\n",
        "model.add(Conv2D(32, (5, 5), activation='relu', input_shape=(28, 28, 1)))\n",
        "model.add(MaxPooling2D((2, 2)))\n",
        "model.summary()"
      ],
      "metadata": {
        "colab": {
          "base_uri": "https://localhost:8080/"
        },
        "id": "R6KB9I-EXqyW",
        "outputId": "ef892683-6d0f-408b-c504-2c8cb0a41786"
      },
      "execution_count": 6,
      "outputs": [
        {
          "output_type": "stream",
          "name": "stdout",
          "text": [
            "Model: \"sequential\"\n",
            "_________________________________________________________________\n",
            " Layer (type)                Output Shape              Param #   \n",
            "=================================================================\n",
            " conv2d (Conv2D)             (None, 24, 24, 32)        832       \n",
            "                                                                 \n",
            " max_pooling2d (MaxPooling2  (None, 12, 12, 32)        0         \n",
            " D)                                                              \n",
            "                                                                 \n",
            "=================================================================\n",
            "Total params: 832 (3.25 KB)\n",
            "Trainable params: 832 (3.25 KB)\n",
            "Non-trainable params: 0 (0.00 Byte)\n",
            "_________________________________________________________________\n"
          ]
        }
      ]
    },
    {
      "cell_type": "code",
      "source": [
        "from tensorflow.keras.utils import to_categorical\n",
        "\n",
        "from tensorflow.keras.layers import Dense\n",
        "from tensorflow.keras.layers import Flatten\n",
        "\n",
        "\n",
        "\n",
        "model.add(Flatten())\n",
        "model.add(Dense(10, activation='softmax'))\n",
        "model.summary()\n"
      ],
      "metadata": {
        "colab": {
          "base_uri": "https://localhost:8080/"
        },
        "id": "HL0liaSRafEg",
        "outputId": "4613a64e-162a-4894-bf99-d16a31d4147f"
      },
      "execution_count": 7,
      "outputs": [
        {
          "output_type": "stream",
          "name": "stdout",
          "text": [
            "Model: \"sequential\"\n",
            "_________________________________________________________________\n",
            " Layer (type)                Output Shape              Param #   \n",
            "=================================================================\n",
            " conv2d (Conv2D)             (None, 24, 24, 32)        832       \n",
            "                                                                 \n",
            " max_pooling2d (MaxPooling2  (None, 12, 12, 32)        0         \n",
            " D)                                                              \n",
            "                                                                 \n",
            " flatten (Flatten)           (None, 4608)              0         \n",
            "                                                                 \n",
            " dense (Dense)               (None, 10)                46090     \n",
            "                                                                 \n",
            "=================================================================\n",
            "Total params: 46922 (183.29 KB)\n",
            "Trainable params: 46922 (183.29 KB)\n",
            "Non-trainable params: 0 (0.00 Byte)\n",
            "_________________________________________________________________\n"
          ]
        }
      ]
    },
    {
      "cell_type": "code",
      "source": [
        "#El en el codigo hace primero reshape y luego astype pero si lo hago como el no me sale\n",
        "train_images = train_images.astype('float32') / 255\n",
        "train_images_reshaped = train_images.reshape((train_images.shape[0], -1))\n",
        "\n",
        "test_images = test_images.astype('float32') / 255\n",
        "test_images_reshaped = test_images.reshape((test_images.shape[0], -1))\n",
        "\n",
        "train_labels = to_categorical(train_labels, 100)\n",
        "test_labels = to_categorical(test_labels, 100)"
      ],
      "metadata": {
        "id": "Kwe8pyAtcvoL"
      },
      "execution_count": 9,
      "outputs": []
    },
    {
      "cell_type": "code",
      "source": [
        "model.compile(loss='categorical_crossentropy',\n",
        "              optimizer='sgd',\n",
        "              metrics=['accuracy'])\n",
        "\n",
        "model.fit(train_images, train_labels,\n",
        "          batch_size=100,\n",
        "          epochs=5,\n",
        "          verbose=1)\n",
        "\n",
        "test_loss, test_acc = model.evaluate(test_images, test_labels)\n",
        "\n",
        "print('Test accuracy:', test_acc)"
      ],
      "metadata": {
        "id": "jqAE_I81fqSf"
      },
      "execution_count": null,
      "outputs": []
    }
  ]
}